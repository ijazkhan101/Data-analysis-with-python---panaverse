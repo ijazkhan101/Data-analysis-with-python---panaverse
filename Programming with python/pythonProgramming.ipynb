{
 "cells": [
  {
   "cell_type": "code",
   "execution_count": 1,
   "metadata": {},
   "outputs": [
    {
     "name": "stdout",
     "output_type": "stream",
     "text": [
      "Ijaz khan Data analyst\n"
     ]
    }
   ],
   "source": [
    "name : str = 'Ijaz khan Data analyst'\n",
    "print(name)"
   ]
  }
 ],
 "metadata": {
  "kernelspec": {
   "display_name": "Python 3",
   "language": "python",
   "name": "python3"
  },
  "language_info": {
   "codemirror_mode": {
    "name": "ipython",
    "version": 3
   },
   "file_extension": ".py",
   "mimetype": "text/x-python",
   "name": "python",
   "nbconvert_exporter": "python",
   "pygments_lexer": "ipython3",
   "version": "3.11.4"
  },
  "orig_nbformat": 4,
  "vscode": {
   "interpreter": {
    "hash": "cd5a15a408ff966a45a725fbe10e66570035c837a177382f1a942fab3dc8628f"
   }
  }
 },
 "nbformat": 4,
 "nbformat_minor": 2
}
